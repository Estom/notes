{
 "metadata": {
  "language_info": {
   "codemirror_mode": {
    "name": "ipython",
    "version": 3
   },
   "file_extension": ".py",
   "mimetype": "text/x-python",
   "name": "python",
   "nbconvert_exporter": "python",
   "pygments_lexer": "ipython3",
   "version": "3.8.0-final"
  },
  "orig_nbformat": 2,
  "kernelspec": {
   "name": "python3",
   "display_name": "Python 3.8.0 64-bit",
   "metadata": {
    "interpreter": {
     "hash": "38740d3277777e2cd7c6c2cc9d8addf5118fdf3f82b1b39231fd12aeac8aee8b"
    }
   }
  }
 },
 "nbformat": 4,
 "nbformat_minor": 2,
 "cells": [
  {
   "source": [
    "## 命令模式\n",
    "* 编辑模式\n",
    "    * Enter : 转入编辑模式\n",
    "    * Shift-Enter : 运行本单元，选中下个单元\n",
    "    * Ctrl-Enter : 运行本单元\n",
    "    * Alt-Enter : 运行本单元，在其下插入新单元\n",
    "    * Y : 单元转入代码状态\n",
    "    * M :单元转入markdown状态\n",
    "* 选中\n",
    "    * Up : 选中上方单元\n",
    "    * K : 选中上方单元\n",
    "    * Down : 选中下方单元\n",
    "    * J : 选中下方单元\n",
    "    * Shift-K : 扩大选中上方单元\n",
    "    * Shift-J : 扩大选中下方单元\n",
    "* 插入删除\n",
    "    * A : 在上方插入新单元\n",
    "    * B : 在下方插入新单元\n",
    "    * X : 剪切选中的单元\n",
    "    * C : 复制选中的单元\n",
    "    * Shift-V : 粘贴到上方单元\n",
    "    * V : 粘贴到下方单元"
   ],
   "cell_type": "markdown",
   "metadata": {}
  },
  {
   "source": [
    "## 编辑模式\n",
    "* Esc : 进入命令模式\n",
    "* Ctrl-M : 进入命令模式\n",
    "* Shift-Enter : 运行本单元，选中下一单元\n",
    "* Ctrl-Enter : 运行本单元\n",
    "* Alt-Enter : 运行本单元，在下面插入一单元\n",
    "* Tab : 代码补全或缩进\n",
    "* Shift-Tab : 提示\n",
    "* Ctrl-] : 缩进\n",
    "* Ctrl-[ : 解除缩进"
   ],
   "cell_type": "markdown",
   "metadata": {}
  }
 ]
}