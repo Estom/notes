{
 "metadata": {
  "language_info": {
   "codemirror_mode": {
    "name": "ipython",
    "version": 3
   },
   "file_extension": ".py",
   "mimetype": "text/x-python",
   "name": "python",
   "nbconvert_exporter": "python",
   "pygments_lexer": "ipython3",
   "version": "3.8.0-final"
  },
  "orig_nbformat": 2,
  "kernelspec": {
   "name": "python3",
   "display_name": "Python 3",
   "language": "python"
  }
 },
 "nbformat": 4,
 "nbformat_minor": 2,
 "cells": [
  {
   "source": [
    "## 1 np.random.choice"
   ],
   "cell_type": "markdown",
   "metadata": {}
  },
  {
   "cell_type": "code",
   "execution_count": 2,
   "metadata": {},
   "outputs": [
    {
     "output_type": "stream",
     "name": "stdout",
     "text": [
      "[[ True False  True  True]\n [ True  True False False]\n [ True  True  True  True]]\n"
     ]
    }
   ],
   "source": [
    "import numpy as np \n",
    "mask = np.random.choice([True,False],p=[.75,.25],size=[3,4])\n",
    "print(mask)"
   ]
  },
  {
   "source": [
    "## 2 np.random.binomial"
   ],
   "cell_type": "markdown",
   "metadata": {}
  },
  {
   "cell_type": "code",
   "execution_count": 5,
   "metadata": {},
   "outputs": [
    {
     "output_type": "stream",
     "name": "stdout",
     "text": [
      "[[ True  True  True False]\n [ True  True False  True]\n [ True False False False]]\n"
     ]
    }
   ],
   "source": [
    "mask = np.random.binomial(n=1,p=0.3,size=[3,4]).astype(bool)\n",
    "print(mask)"
   ]
  },
  {
   "source": [
    "## 3 使用shuffle"
   ],
   "cell_type": "markdown",
   "metadata": {}
  },
  {
   "cell_type": "code",
   "execution_count": 1,
   "metadata": {},
   "outputs": [],
   "source": [
    "# 创建数据集\n",
    "N =1000\n",
    "holdout = 200\n",
    "from sklearn.datasets import make_regression\n",
    "X,y = make_regression(1000,shuffle=True)\n",
    "\n",
    "# 分割数据集的第二种方法。\n",
    "X_h,y_h = X[:holdout],y[:holdout]\n",
    "X_t,y_t = X[holdout:],y[holdout:]"
   ]
  }
 ]
}